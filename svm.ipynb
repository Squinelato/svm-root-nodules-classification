{
 "cells": [
  {
   "cell_type": "code",
   "execution_count": 18,
   "metadata": {},
   "outputs": [],
   "source": [
    "import joblib\n",
    "\n",
    "from scipy.stats import reciprocal\n",
    "from sklearn.svm import SVC\n",
    "\n",
    "from sklearn.model_selection import RandomizedSearchCV\n",
    "from sklearn.model_selection import StratifiedKFold\n",
    "from sklearn.model_selection import GridSearchCV\n",
    "\n",
    "from sklearn.model_selection import train_test_split\n",
    "from sklearn.preprocessing import RobustScaler\n",
    "\n",
    "from skimage.measure import moments_hu\n",
    "from mahotas.features import haralick\n",
    "\n",
    "import numpy as np\n",
    "import cv2\n",
    "import os"
   ]
  },
  {
   "cell_type": "code",
   "execution_count": 26,
   "metadata": {},
   "outputs": [],
   "source": [
    "class Identifier:\n",
    "\n",
    "    def __init__(self):\n",
    "        self.features = None\n",
    "        self.labels = None\n",
    "        self.X_train = None  \n",
    "        self.X_test = None\n",
    "        self.y_train = None\n",
    "        self.y_test = None\n",
    "        self.cross_val = StratifiedKFold(n_splits=5)\n",
    "        self.default_classifier = SVC(class_weight='balanced', \n",
    "                                      decision_function_shape='ovo', \n",
    "                                      cache_size=4000)\n",
    "        self.default_params = {\n",
    "                               'C': reciprocal(1, 1000),\n",
    "                               'gamma': ['scale'],\n",
    "                               'coef0': np.arange(0, 10, 0.001),\n",
    "                               'degree': range(1, 10)\n",
    "                              }\n",
    "        self.optimized_classifier = None\n",
    "\n",
    "    @staticmethod\n",
    "    def load_images_from_folder(folder):\n",
    "        images = list()\n",
    "        for filename in os.listdir(folder):\n",
    "            img = cv2.imread(os.path.join(folder, filename), cv2.IMREAD_GRAYSCALE)\n",
    "            if img is not None:\n",
    "                images.append(img)\n",
    "        return images\n",
    "\n",
    "    @staticmethod\n",
    "    def extract_features(image):\n",
    "        return np.r_[moments_hu(image), haralick(image).flatten()]\n",
    "\n",
    "    def save_extracted_features(self, bboxes_path):\n",
    "        positive_instance = self.load_images_from_folder(bboxes_path + 'nodules/')\n",
    "        negative_instance = self.load_images_from_folder(bboxes_path + 'non-nodules/')\n",
    "\n",
    "        positive_features = np.array(list(map(self.extract_features, positive_instance)))\n",
    "        negative_features = np.array(list(map(self.extract_features, negative_instance)))\n",
    "\n",
    "        features = np.r_[positive_features, negative_features]\n",
    "        labels = np.r_[np.ones(len(positive_instance)), np.zeros(len(negative_instance))]\n",
    "\n",
    "        np.save('features/features.npy', features)\n",
    "        np.save('features/labels.npy', labels)\n",
    "\n",
    "    def load_features(self):\n",
    "        self.features = np.load('features/features.npy')\n",
    "        self.labels = np.load('features/labels.npy')\n",
    "        \n",
    "    def split_dataset(self):\n",
    "        X_train, X_test, y_train, y_test = train_test_split(self.features, \n",
    "                                                            self.labels, \n",
    "                                                            stratify=self.labels, \n",
    "                                                            test_size=0.2)\n",
    "        self.X_train = X_train  \n",
    "        self.X_test = X_test\n",
    "        self.y_train = y_train\n",
    "        self.y_test = y_test\n",
    "        \n",
    "    def normalize(self):\n",
    "        scaler = RobustScaler()\n",
    "        self.X_train = scaler.fit_transform(self.X_train)\n",
    "        self.X_test = scaler.transform(self.X_test)\n",
    "        \n",
    "    def training(self, kernel, n_iter, scoring='f1_weighted'):\n",
    "        self.default_params['kernel'] = [kernel]\n",
    "        \n",
    "        ran_search = RandomizedSearchCV(self.default_classifier, \n",
    "                                        param_distributions=self.default_params,  \n",
    "                                        cv=self.cross_val, scoring=scoring, \n",
    "                                        n_iter=n_iter, verbose=3, n_jobs=4)\n",
    "        \n",
    "        ran_search.fit(self.X_train, self.y_train)\n",
    "        print('Best score: {}'.format(ran_search.best_score_))\n",
    "        print('Best parameters: {}'.format(ran_search.best_params_))\n",
    "        \n",
    "        joblib.dump(ran_search.best_estimator_, 'classifiers/{}_{}.plk'.format(kernel, n_iter))\n",
    "        \n",
    "    def load_optimized_classifier(self, classifier_path):\n",
    "        self.optimized_classifier = joblib.load(classifier_path)\n",
    "        print('Parameters: {}'.format(self.optimized_classifier.get_params()))"
   ]
  },
  {
   "cell_type": "code",
   "execution_count": 27,
   "metadata": {},
   "outputs": [],
   "source": [
    "IDENTIIER = Identifier()"
   ]
  },
  {
   "cell_type": "code",
   "execution_count": 28,
   "metadata": {},
   "outputs": [],
   "source": [
    "# IDENTIIER.save_extracted_features('bbox_dataset/')"
   ]
  },
  {
   "cell_type": "code",
   "execution_count": 29,
   "metadata": {},
   "outputs": [],
   "source": [
    "IDENTIIER.load_features()"
   ]
  },
  {
   "cell_type": "code",
   "execution_count": 30,
   "metadata": {},
   "outputs": [],
   "source": [
    "IDENTIIER.split_dataset()"
   ]
  },
  {
   "cell_type": "code",
   "execution_count": 31,
   "metadata": {},
   "outputs": [],
   "source": [
    "IDENTIIER.normalize()"
   ]
  },
  {
   "cell_type": "code",
   "execution_count": 32,
   "metadata": {},
   "outputs": [
    {
     "name": "stdout",
     "output_type": "stream",
     "text": [
      "Fitting 5 folds for each of 1000 candidates, totalling 5000 fits\n"
     ]
    },
    {
     "name": "stderr",
     "output_type": "stream",
     "text": [
      "[Parallel(n_jobs=4)]: Using backend LokyBackend with 4 concurrent workers.\n",
      "[Parallel(n_jobs=4)]: Done  56 tasks      | elapsed:    0.1s\n",
      "[Parallel(n_jobs=4)]: Done 4746 tasks      | elapsed:    7.4s\n"
     ]
    },
    {
     "name": "stdout",
     "output_type": "stream",
     "text": [
      "Best score: 0.7709401709401709\n",
      "Best parameters: {'C': 32.65749898024667, 'coef0': 9.59, 'degree': 1, 'gamma': 'scale', 'kernel': 'poly'}\n"
     ]
    },
    {
     "name": "stderr",
     "output_type": "stream",
     "text": [
      "[Parallel(n_jobs=4)]: Done 5000 out of 5000 | elapsed:    7.6s finished\n"
     ]
    }
   ],
   "source": [
    "IDENTIIER.training('poly', 1000)"
   ]
  },
  {
   "cell_type": "code",
   "execution_count": 33,
   "metadata": {},
   "outputs": [
    {
     "name": "stdout",
     "output_type": "stream",
     "text": [
      "Parameters: {'C': 32.65749898024667, 'break_ties': False, 'cache_size': 4000, 'class_weight': 'balanced', 'coef0': 9.59, 'decision_function_shape': 'ovo', 'degree': 1, 'gamma': 'scale', 'kernel': 'poly', 'max_iter': -1, 'probability': False, 'random_state': None, 'shrinking': True, 'tol': 0.001, 'verbose': False}\n"
     ]
    }
   ],
   "source": [
    "IDENTIIER.load_optimized_classifier('classifiers/poly_1000.plk')"
   ]
  },
  {
   "cell_type": "code",
   "execution_count": null,
   "metadata": {},
   "outputs": [],
   "source": []
  }
 ],
 "metadata": {
  "kernelspec": {
   "display_name": "Python 3.7.6 64-bit ('base': conda)",
   "language": "python",
   "name": "python37664bitbasecondaec126aa0c77e42d49e9618db2a0d19bc"
  },
  "language_info": {
   "codemirror_mode": {
    "name": "ipython",
    "version": 3
   },
   "file_extension": ".py",
   "mimetype": "text/x-python",
   "name": "python",
   "nbconvert_exporter": "python",
   "pygments_lexer": "ipython3",
   "version": "3.7.6"
  }
 },
 "nbformat": 4,
 "nbformat_minor": 4
}
